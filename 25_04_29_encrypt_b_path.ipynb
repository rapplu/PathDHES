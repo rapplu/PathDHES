{
 "cells": [
  {
   "cell_type": "code",
   "id": "initial_id",
   "metadata": {
    "collapsed": true,
    "ExecuteTime": {
     "end_time": "2025-04-29T14:45:17.438976Z",
     "start_time": "2025-04-29T14:45:17.435405Z"
    }
   },
   "source": [
    "from halp.directed_hypergraph import DirectedHypergraph\n",
    "\n",
    "from halp.algorithms.directed_paths import shortest_b_tree\n",
    "import networkx as nx\n",
    "import matplotlib.pyplot as plt\n",
    "from helper import *"
   ],
   "outputs": [],
   "execution_count": 183
  },
  {
   "metadata": {
    "ExecuteTime": {
     "end_time": "2025-04-29T14:37:49.808435Z",
     "start_time": "2025-04-29T14:37:49.801880Z"
    }
   },
   "cell_type": "code",
   "source": [
    "H = DirectedHypergraph()\n",
    "H.add_hyperedge([1], [2])\n",
    "H.add_hyperedge([1], [3])\n",
    "H.add_hyperedge([2, 3], [4])\n",
    "H.add_hyperedge([1], [5])\n",
    "H.add_hyperedge([4, 5], [6])\n",
    "H.add_hyperedge([6], [7])"
   ],
   "id": "606ddaa76bb5af00",
   "outputs": [
    {
     "data": {
      "text/plain": [
       "'e6'"
      ]
     },
     "execution_count": 138,
     "metadata": {},
     "output_type": "execute_result"
    }
   ],
   "execution_count": 138
  },
  {
   "metadata": {
    "ExecuteTime": {
     "end_time": "2025-04-29T14:37:50.019725Z",
     "start_time": "2025-04-29T14:37:50.016314Z"
    }
   },
   "cell_type": "code",
   "source": [
    "id_source_vertex = 1\n",
    "\n",
    "mapping, weight_dict = shortest_b_tree(H, id_source_vertex)"
   ],
   "id": "20833c8ea276a2fa",
   "outputs": [],
   "execution_count": 139
  },
  {
   "metadata": {
    "ExecuteTime": {
     "end_time": "2025-04-29T14:37:50.270395Z",
     "start_time": "2025-04-29T14:37:50.266395Z"
    }
   },
   "cell_type": "code",
   "source": [
    "weight_tuples = [(vertex_id, weight_dict[vertex_id]) for vertex_id in weight_dict.keys()]\n",
    "weight_tuples.sort(key=lambda x: x[1])"
   ],
   "id": "14428436ca2e6dcf",
   "outputs": [],
   "execution_count": 140
  },
  {
   "metadata": {
    "ExecuteTime": {
     "end_time": "2025-04-29T14:39:33.535308Z",
     "start_time": "2025-04-29T14:39:33.528007Z"
    }
   },
   "cell_type": "code",
   "source": [
    "# Runs the SBT algorithm for vertex \"id_source_vertex\" as source.\n",
    "mapping, weight_dict = shortest_b_tree(H, id_source_vertex)\n",
    "# mapping: dict: keys (int): vertices ids, values (strings): id of the last hyperedge on the shortest B-path that connects id_source_vertex and the key.\n",
    "# weight_dict: dict: keys (int): vertices ids, values (int): weight that the SBT algorithm assigns to each vertex.\n",
    "\n",
    "# Returns for each node the tree in which it is the root.\n",
    "root_tree_mapping = {}\n",
    "\n",
    "# For each node that was already analyzed, the mapping returns the tree in which the node is part of\n",
    "# (A node can be the leaf in multiple trees but only has outgoing connections in one tree. The mapping returns this tree.)\n",
    "node_tree_mapping = {}\n",
    "\n",
    "main_tree = nx.DiGraph()\n",
    "node_tree_mapping[str(id_source_vertex)] = main_tree\n",
    "root_tree_mapping[str(id_source_vertex)] = main_tree\n",
    "\n",
    "for (vertex_id, _) in weight_tuples:\n",
    "    hyperedge_id = mapping[vertex_id]\n",
    "    if hyperedge_id is None:\n",
    "        continue\n",
    "\n",
    "    tail_vertex_id_list = H.get_hyperedge_tail(hyperedge_id)\n",
    "\n",
    "    print(vertex_id, tail_vertex_id_list)\n",
    "\n",
    "    # todo: think about this case again.\n",
    "    # probably cannot happen anyway.\n",
    "    if len(tail_vertex_id_list) == 0:\n",
    "        continue\n",
    "\n",
    "    if len(tail_vertex_id_list) == 1:\n",
    "        tail_vertex_id = tail_vertex_id_list[0]\n",
    "        tree_of_tail_vertex = node_tree_mapping[str(tail_vertex_id)]\n",
    "\n",
    "        tree_of_tail_vertex.add_edge(str(vertex_id), str(tail_vertex_id)) #\n",
    "        node_tree_mapping[str(vertex_id)] = tree_of_tail_vertex\n",
    "    else:\n",
    "        # Tail has multiple vertex: Start new tree.\n",
    "        new_tree = nx.DiGraph()\n",
    "        node_tree_mapping[str(vertex_id)] = new_tree\n",
    "        root_tree_mapping[str(vertex_id)] = new_tree\n",
    "\n",
    "        for idx, tail_vertex_id in enumerate(tail_vertex_id_list):\n",
    "             tree_of_tail_vertex = node_tree_mapping[str(tail_vertex_id)]\n",
    "             # Todo: ensure that no tail has less than 100 vertices.\n",
    "             tree_of_tail_vertex.add_edge(str(vertex_id) + \"_\" + str(idx), str(tail_vertex_id)) #vertex_id * 100 + idx)"
   ],
   "id": "2b6cd2cc20c20c79",
   "outputs": [
    {
     "name": "stdout",
     "output_type": "stream",
     "text": [
      "2 [1]\n",
      "3 [1]\n",
      "5 [1]\n",
      "4 [2, 3]\n",
      "6 [4, 5]\n",
      "7 [6]\n"
     ]
    }
   ],
   "execution_count": 154
  },
  {
   "metadata": {
    "ExecuteTime": {
     "end_time": "2025-04-29T14:39:38.847650Z",
     "start_time": "2025-04-29T14:39:38.842717Z"
    }
   },
   "cell_type": "code",
   "source": "root_tree_mapping[\"1\"].nodes",
   "id": "835b4180c00d1b0e",
   "outputs": [
    {
     "data": {
      "text/plain": [
       "NodeView(('2', '1', '3', '5', '4_0', '4_1', '6_1'))"
      ]
     },
     "execution_count": 156,
     "metadata": {},
     "output_type": "execute_result"
    }
   ],
   "execution_count": 156
  },
  {
   "metadata": {
    "ExecuteTime": {
     "end_time": "2025-04-29T14:39:42.755025Z",
     "start_time": "2025-04-29T14:39:42.750578Z"
    }
   },
   "cell_type": "code",
   "source": "root_tree_mapping",
   "id": "69f402e1cbeb8d2d",
   "outputs": [
    {
     "data": {
      "text/plain": [
       "{'1': <networkx.classes.digraph.DiGraph at 0x205dac47f50>,\n",
       " '4': <networkx.classes.digraph.DiGraph at 0x205fdb0a0c0>,\n",
       " '6': <networkx.classes.digraph.DiGraph at 0x205fdb0ba40>}"
      ]
     },
     "execution_count": 157,
     "metadata": {},
     "output_type": "execute_result"
    }
   ],
   "execution_count": 157
  },
  {
   "metadata": {
    "ExecuteTime": {
     "end_time": "2025-04-29T14:39:43.345530Z",
     "start_time": "2025-04-29T14:39:43.340191Z"
    }
   },
   "cell_type": "code",
   "source": "node_tree_mapping",
   "id": "950163c55b7e3802",
   "outputs": [
    {
     "data": {
      "text/plain": [
       "{'1': <networkx.classes.digraph.DiGraph at 0x205dac47f50>,\n",
       " '2': <networkx.classes.digraph.DiGraph at 0x205dac47f50>,\n",
       " '3': <networkx.classes.digraph.DiGraph at 0x205dac47f50>,\n",
       " '5': <networkx.classes.digraph.DiGraph at 0x205dac47f50>,\n",
       " '4': <networkx.classes.digraph.DiGraph at 0x205fdb0a0c0>,\n",
       " '6': <networkx.classes.digraph.DiGraph at 0x205fdb0ba40>,\n",
       " '7': <networkx.classes.digraph.DiGraph at 0x205fdb0ba40>}"
      ]
     },
     "execution_count": 158,
     "metadata": {},
     "output_type": "execute_result"
    }
   ],
   "execution_count": 158
  },
  {
   "metadata": {
    "ExecuteTime": {
     "end_time": "2025-04-29T14:39:44.585128Z",
     "start_time": "2025-04-29T14:39:44.581684Z"
    }
   },
   "cell_type": "code",
   "source": [
    "def draw_tree(tree, id_source_vertex):\n",
    "    colors = ['red' if node == str(id_source_vertex) else 'lightblue' for node in tree.nodes()]\n",
    "    nx.draw(tree, with_labels=True, node_color=colors)"
   ],
   "id": "a72b659177043355",
   "outputs": [],
   "execution_count": 159
  },
  {
   "metadata": {
    "ExecuteTime": {
     "end_time": "2025-04-29T14:39:49.270106Z",
     "start_time": "2025-04-29T14:39:49.264695Z"
    }
   },
   "cell_type": "code",
   "source": "root_tree_mapping[\"1\"].nodes",
   "id": "2cfd40b069e7116e",
   "outputs": [
    {
     "data": {
      "text/plain": [
       "NodeView(('2', '1', '3', '5', '4_0', '4_1', '6_1'))"
      ]
     },
     "execution_count": 161,
     "metadata": {},
     "output_type": "execute_result"
    }
   ],
   "execution_count": 161
  },
  {
   "metadata": {
    "ExecuteTime": {
     "end_time": "2025-04-29T14:39:54.103650Z",
     "start_time": "2025-04-29T14:39:54.098134Z"
    }
   },
   "cell_type": "code",
   "source": "root_tree_mapping[\"4\"].nodes",
   "id": "bcbace0164334da0",
   "outputs": [
    {
     "data": {
      "text/plain": [
       "NodeView(('6_0', '4'))"
      ]
     },
     "execution_count": 163,
     "metadata": {},
     "output_type": "execute_result"
    }
   ],
   "execution_count": 163
  },
  {
   "metadata": {
    "ExecuteTime": {
     "end_time": "2025-04-29T14:39:57.240156Z",
     "start_time": "2025-04-29T14:39:57.234995Z"
    }
   },
   "cell_type": "code",
   "source": "node_tree_mapping[\"4\"].nodes",
   "id": "376f8216a88b9e40",
   "outputs": [
    {
     "data": {
      "text/plain": [
       "NodeView(('6_0', '4'))"
      ]
     },
     "execution_count": 164,
     "metadata": {},
     "output_type": "execute_result"
    }
   ],
   "execution_count": 164
  },
  {
   "metadata": {
    "ExecuteTime": {
     "end_time": "2025-04-29T14:39:59.787120Z",
     "start_time": "2025-04-29T14:39:59.664454Z"
    }
   },
   "cell_type": "code",
   "source": [
    "for root in root_tree_mapping.keys():\n",
    "    plt.figure()\n",
    "    draw_tree(root_tree_mapping[root], root)"
   ],
   "id": "5b8a0988ae0f6fc0",
   "outputs": [
    {
     "data": {
      "text/plain": [
       "<Figure size 640x480 with 1 Axes>"
      ],
      "image/png": "[encoded data removed]"
     },
     "metadata": {},
     "output_type": "display_data"
    },
    {
     "data": {
      "text/plain": [
       "<Figure size 640x480 with 1 Axes>"
      ],
      "image/png": "[encoded data removed]"
     },
     "metadata": {},
     "output_type": "display_data"
    },
    {
     "data": {
      "text/plain": [
       "<Figure size 640x480 with 1 Axes>"
      ],
      "image/png": "[encoded data removed]"
     },
     "metadata": {},
     "output_type": "display_data"
    }
   ],
   "execution_count": 165
  },
  {
   "metadata": {
    "ExecuteTime": {
     "end_time": "2025-04-29T14:46:30.042833Z",
     "start_time": "2025-04-29T14:46:30.039392Z"
    }
   },
   "cell_type": "code",
   "source": [
    "root = \"1\"\n",
    "T = root_tree_mapping[root]\n",
    "\n",
    "size, hl_labels = HLD(T, root, {})\n",
    "nx.set_edge_attributes(T, hl_labels,'hl')\n",
    "\n",
    "Paths = BFS_paths(T, root)"
   ],
   "id": "8ed8e18e6376240f",
   "outputs": [],
   "execution_count": 188
  },
  {
   "metadata": {
    "ExecuteTime": {
     "end_time": "2025-04-29T14:46:32.977459Z",
     "start_time": "2025-04-29T14:46:32.973705Z"
    }
   },
   "cell_type": "code",
   "source": "Paths",
   "id": "7811042717b66242",
   "outputs": [
    {
     "data": {
      "text/plain": [
       "[['1', '2', '4_0'], ['1', '3', '4_1'], ['1', '5', '6_1']]"
      ]
     },
     "execution_count": 189,
     "metadata": {},
     "output_type": "execute_result"
    }
   ],
   "execution_count": 189
  },
  {
   "metadata": {},
   "cell_type": "code",
   "outputs": [],
   "execution_count": null,
   "source": "",
   "id": "8bb5155f237e757e"
  }
 ],
 "metadata": {
  "kernelspec": {
   "display_name": "Python 3",
   "language": "python",
   "name": "python3"
  },
  "language_info": {
   "codemirror_mode": {
    "name": "ipython",
    "version": 2
   },
   "file_extension": ".py",
   "mimetype": "text/x-python",
   "name": "python",
   "nbconvert_exporter": "python",
   "pygments_lexer": "ipython2",
   "version": "2.7.6"
  }
 },
 "nbformat": 4,
 "nbformat_minor": 5
}
