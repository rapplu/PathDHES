{
 "cells": [
  {
   "cell_type": "code",
   "id": "initial_id",
   "metadata": {
    "collapsed": true,
    "ExecuteTime": {
     "end_time": "2025-04-29T13:55:38.747591Z",
     "start_time": "2025-04-29T13:55:38.744070Z"
    }
   },
   "source": [
    "from halp.directed_hypergraph import DirectedHypergraph\n",
    "\n",
    "from halp.algorithms.directed_paths import shortest_b_tree\n",
    "import networkx as nx\n",
    "import matplotlib.pyplot as plt"
   ],
   "outputs": [],
   "execution_count": 44
  },
  {
   "metadata": {
    "ExecuteTime": {
     "end_time": "2025-04-29T13:55:38.999541Z",
     "start_time": "2025-04-29T13:55:38.994173Z"
    }
   },
   "cell_type": "code",
   "source": [
    "H = DirectedHypergraph()\n",
    "H.add_hyperedge([1], [2])\n",
    "H.add_hyperedge([1], [3])\n",
    "H.add_hyperedge([2, 3], [4])\n",
    "H.add_hyperedge([1], [5])\n",
    "H.add_hyperedge([4, 5], [6])\n",
    "H.add_hyperedge([6], [7])"
   ],
   "id": "606ddaa76bb5af00",
   "outputs": [
    {
     "data": {
      "text/plain": [
       "'e6'"
      ]
     },
     "execution_count": 45,
     "metadata": {},
     "output_type": "execute_result"
    }
   ],
   "execution_count": 45
  },
  {
   "metadata": {
    "ExecuteTime": {
     "end_time": "2025-04-29T13:55:39.169032Z",
     "start_time": "2025-04-29T13:55:39.164701Z"
    }
   },
   "cell_type": "code",
   "source": [
    "id_source_vertex = 1\n",
    "\n",
    "mapping, weight_dict = shortest_b_tree(H, id_source_vertex)"
   ],
   "id": "20833c8ea276a2fa",
   "outputs": [],
   "execution_count": 46
  },
  {
   "metadata": {
    "ExecuteTime": {
     "end_time": "2025-04-29T13:55:39.685246Z",
     "start_time": "2025-04-29T13:55:39.679960Z"
    }
   },
   "cell_type": "code",
   "source": [
    "weight_tuples = [(vertex_id, weight_dict[vertex_id]) for vertex_id in weight_dict.keys()]\n",
    "weight_tuples.sort(key=lambda x: x[1])"
   ],
   "id": "14428436ca2e6dcf",
   "outputs": [],
   "execution_count": 47
  },
  {
   "metadata": {
    "ExecuteTime": {
     "end_time": "2025-04-29T14:08:48.387698Z",
     "start_time": "2025-04-29T14:08:48.380876Z"
    }
   },
   "cell_type": "code",
   "source": [
    "# Runs the SBT algorithm for vertex \"id_source_vertex\" as source.\n",
    "mapping, weight_dict = shortest_b_tree(H, id_source_vertex)\n",
    "# mapping: dict: keys (int): vertices ids, values (strings): id of the last hyperedge on the shortest B-path that connects id_source_vertex and the key.\n",
    "# weight_dict: dict: keys (int): vertices ids, values (int): weight that the SBT algorithm assigns to each vertex.\n",
    "\n",
    "# Returns for each node the tree in which it is the root.\n",
    "root_tree_mapping = {}\n",
    "\n",
    "# For each node that was already analyzed, the mapping returns the tree in which the node is part of\n",
    "# (A node can be the leaf in multiple trees but only has outgoing connections in one tree. The mapping returns this tree.)\n",
    "node_tree_mapping = {}\n",
    "\n",
    "main_tree = nx.DiGraph()\n",
    "node_tree_mapping[id_source_vertex] = main_tree\n",
    "root_tree_mapping[id_source_vertex] = main_tree\n",
    "\n",
    "for (vertex_id, _) in weight_tuples:\n",
    "    hyperedge_id = mapping[vertex_id]\n",
    "    if hyperedge_id is None:\n",
    "        continue\n",
    "\n",
    "    tail_vertex_id_list = H.get_hyperedge_tail(hyperedge_id)\n",
    "\n",
    "    print(vertex_id, tail_vertex_id_list)\n",
    "\n",
    "    # todo: think about this case again.\n",
    "    # probably cannot happen anyway.\n",
    "    if len(tail_vertex_id_list) == 0:\n",
    "        continue\n",
    "\n",
    "    if len(tail_vertex_id_list) == 1:\n",
    "        tail_vertex_id = tail_vertex_id_list[0]\n",
    "        tree_of_tail_vertex = node_tree_mapping[tail_vertex_id]\n",
    "\n",
    "        tree_of_tail_vertex.add_edge(str(tail_vertex_id), str(vertex_id)) #\n",
    "        node_tree_mapping[vertex_id] = tree_of_tail_vertex\n",
    "    else:\n",
    "        # Tail has multiple vertex: Start new tree.\n",
    "        new_tree = nx.DiGraph()\n",
    "        node_tree_mapping[vertex_id] = new_tree\n",
    "        root_tree_mapping[vertex_id] = new_tree\n",
    "\n",
    "        for idx, tail_vertex_id in enumerate(tail_vertex_id_list):\n",
    "             tree_of_tail_vertex = node_tree_mapping[tail_vertex_id]\n",
    "             # Todo: ensure that no tail has less than 100 vertices.\n",
    "             tree_of_tail_vertex.add_edge(str(tail_vertex_id), str(vertex_id) + \"_\" + str(idx)) #vertex_id * 100 + idx)"
   ],
   "id": "2b6cd2cc20c20c79",
   "outputs": [
    {
     "name": "stdout",
     "output_type": "stream",
     "text": [
      "2 [1]\n",
      "3 [1]\n",
      "5 [1]\n",
      "4 [2, 3]\n",
      "6 [4, 5]\n",
      "7 [6]\n"
     ]
    }
   ],
   "execution_count": 119
  },
  {
   "metadata": {
    "ExecuteTime": {
     "end_time": "2025-04-29T14:08:48.902558Z",
     "start_time": "2025-04-29T14:08:48.897048Z"
    }
   },
   "cell_type": "code",
   "source": "root_tree_mapping[1].nodes",
   "id": "835b4180c00d1b0e",
   "outputs": [
    {
     "data": {
      "text/plain": [
       "NodeView(('1', '2', '3', '5', '4_0', '4_1', '6_1'))"
      ]
     },
     "execution_count": 120,
     "metadata": {},
     "output_type": "execute_result"
    }
   ],
   "execution_count": 120
  },
  {
   "metadata": {
    "ExecuteTime": {
     "end_time": "2025-04-29T14:08:49.183115Z",
     "start_time": "2025-04-29T14:08:49.178116Z"
    }
   },
   "cell_type": "code",
   "source": "root_tree_mapping",
   "id": "69f402e1cbeb8d2d",
   "outputs": [
    {
     "data": {
      "text/plain": [
       "{1: <networkx.classes.digraph.DiGraph at 0x205fdab5850>,\n",
       " 4: <networkx.classes.digraph.DiGraph at 0x205fdae13a0>,\n",
       " 6: <networkx.classes.digraph.DiGraph at 0x205fdae24b0>}"
      ]
     },
     "execution_count": 121,
     "metadata": {},
     "output_type": "execute_result"
    }
   ],
   "execution_count": 121
  },
  {
   "metadata": {
    "ExecuteTime": {
     "end_time": "2025-04-29T14:08:49.354587Z",
     "start_time": "2025-04-29T14:08:49.349972Z"
    }
   },
   "cell_type": "code",
   "source": "node_tree_mapping",
   "id": "950163c55b7e3802",
   "outputs": [
    {
     "data": {
      "text/plain": [
       "{1: <networkx.classes.digraph.DiGraph at 0x205fdab5850>,\n",
       " 2: <networkx.classes.digraph.DiGraph at 0x205fdab5850>,\n",
       " 3: <networkx.classes.digraph.DiGraph at 0x205fdab5850>,\n",
       " 5: <networkx.classes.digraph.DiGraph at 0x205fdab5850>,\n",
       " 4: <networkx.classes.digraph.DiGraph at 0x205fdae13a0>,\n",
       " 6: <networkx.classes.digraph.DiGraph at 0x205fdae24b0>,\n",
       " 7: <networkx.classes.digraph.DiGraph at 0x205fdae24b0>}"
      ]
     },
     "execution_count": 122,
     "metadata": {},
     "output_type": "execute_result"
    }
   ],
   "execution_count": 122
  },
  {
   "metadata": {
    "ExecuteTime": {
     "end_time": "2025-04-29T14:08:49.647071Z",
     "start_time": "2025-04-29T14:08:49.642869Z"
    }
   },
   "cell_type": "code",
   "source": [
    "def draw_tree(tree, id_source_vertex):\n",
    "    colors = ['red' if node == str(id_source_vertex) else 'lightblue' for node in tree.nodes()]\n",
    "    nx.draw(tree, with_labels=True, node_color=colors)"
   ],
   "id": "a72b659177043355",
   "outputs": [],
   "execution_count": 123
  },
  {
   "metadata": {
    "ExecuteTime": {
     "end_time": "2025-04-29T14:08:50.054995Z",
     "start_time": "2025-04-29T14:08:50.049909Z"
    }
   },
   "cell_type": "code",
   "source": "root_tree_mapping[1].nodes",
   "id": "2cfd40b069e7116e",
   "outputs": [
    {
     "data": {
      "text/plain": [
       "NodeView(('1', '2', '3', '5', '4_0', '4_1', '6_1'))"
      ]
     },
     "execution_count": 124,
     "metadata": {},
     "output_type": "execute_result"
    }
   ],
   "execution_count": 124
  },
  {
   "metadata": {
    "ExecuteTime": {
     "end_time": "2025-04-29T14:08:50.489240Z",
     "start_time": "2025-04-29T14:08:50.484083Z"
    }
   },
   "cell_type": "code",
   "source": "root_tree_mapping[4].nodes",
   "id": "bcbace0164334da0",
   "outputs": [
    {
     "data": {
      "text/plain": [
       "NodeView(('4', '6_0'))"
      ]
     },
     "execution_count": 125,
     "metadata": {},
     "output_type": "execute_result"
    }
   ],
   "execution_count": 125
  },
  {
   "metadata": {
    "ExecuteTime": {
     "end_time": "2025-04-29T14:08:51.067883Z",
     "start_time": "2025-04-29T14:08:51.062742Z"
    }
   },
   "cell_type": "code",
   "source": "node_tree_mapping[4].nodes",
   "id": "376f8216a88b9e40",
   "outputs": [
    {
     "data": {
      "text/plain": [
       "NodeView(('4', '6_0'))"
      ]
     },
     "execution_count": 126,
     "metadata": {},
     "output_type": "execute_result"
    }
   ],
   "execution_count": 126
  },
  {
   "metadata": {
    "ExecuteTime": {
     "end_time": "2025-04-29T14:08:51.685674Z",
     "start_time": "2025-04-29T14:08:51.560293Z"
    }
   },
   "cell_type": "code",
   "source": [
    "for root in root_tree_mapping.keys():\n",
    "    plt.figure()\n",
    "    draw_tree(root_tree_mapping[root], root)"
   ],
   "id": "5b8a0988ae0f6fc0",
   "outputs": [
    {
     "data": {
      "text/plain": [
       "<Figure size 640x480 with 1 Axes>"
      ],
      "image/png": "[encoded data removed]"
     },
     "metadata": {},
     "output_type": "display_data"
    },
    {
     "data": {
      "text/plain": [
       "<Figure size 640x480 with 1 Axes>"
      ],
      "image/png": "[encoded data removed]"
     },
     "metadata": {},
     "output_type": "display_data"
    },
    {
     "data": {
      "text/plain": [
       "<Figure size 640x480 with 1 Axes>"
      ],
      "image/png": "[encoded data removed]"
     },
     "metadata": {},
     "output_type": "display_data"
    }
   ],
   "execution_count": 127
  },
  {
   "metadata": {},
   "cell_type": "code",
   "outputs": [],
   "execution_count": null,
   "source": "",
   "id": "8ed8e18e6376240f"
  }
 ],
 "metadata": {
  "kernelspec": {
   "display_name": "Python 3",
   "language": "python",
   "name": "python3"
  },
  "language_info": {
   "codemirror_mode": {
    "name": "ipython",
    "version": 2
   },
   "file_extension": ".py",
   "mimetype": "text/x-python",
   "name": "python",
   "nbconvert_exporter": "python",
   "pygments_lexer": "ipython2",
   "version": "2.7.6"
  }
 },
 "nbformat": 4,
 "nbformat_minor": 5
}
