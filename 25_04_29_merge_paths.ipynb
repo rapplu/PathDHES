{
 "cells": [
  {
   "metadata": {
    "ExecuteTime": {
     "end_time": "2025-04-29T19:23:08.057251Z",
     "start_time": "2025-04-29T19:23:07.902799Z"
    }
   },
   "cell_type": "code",
   "source": "import networkx as nx",
   "id": "69ac16fe6f8ac22e",
   "outputs": [],
   "execution_count": 17
  },
  {
   "cell_type": "code",
   "id": "initial_id",
   "metadata": {
    "collapsed": true,
    "ExecuteTime": {
     "end_time": "2025-04-29T19:23:08.155142Z",
     "start_time": "2025-04-29T19:23:08.151138Z"
    }
   },
   "source": "# [[b'4;6_0'], [b'6;7'], [b'1;5', b'5;6_1'], [b'1;2', b'2;4_0'], [b'1;3', b'3;4_1']]",
   "outputs": [],
   "execution_count": 18
  },
  {
   "metadata": {
    "ExecuteTime": {
     "end_time": "2025-04-29T19:23:30.319240Z",
     "start_time": "2025-04-29T19:23:30.315587Z"
    }
   },
   "cell_type": "code",
   "source": "",
   "id": "db686f73d1e8440f",
   "outputs": [],
   "execution_count": 22
  },
  {
   "metadata": {
    "ExecuteTime": {
     "end_time": "2025-04-29T19:23:30.736923Z",
     "start_time": "2025-04-29T19:23:30.732983Z"
    }
   },
   "cell_type": "code",
   "source": "seg_list = [[b'4;6_0'], [b'6;7'], [b'1;5', b'5;6_1'], [b'1;2', b'2;4_0'], [b'1;3', b'3;4_1']]",
   "id": "9cc9d8bc26f6a746",
   "outputs": [],
   "execution_count": 23
  },
  {
   "metadata": {
    "ExecuteTime": {
     "end_time": "2025-04-29T19:23:31.047291Z",
     "start_time": "2025-04-29T19:23:31.043291Z"
    }
   },
   "cell_type": "code",
   "source": "",
   "id": "fe2792e8d4567352",
   "outputs": [],
   "execution_count": 24
  },
  {
   "metadata": {
    "ExecuteTime": {
     "end_time": "2025-04-29T19:28:54.250221Z",
     "start_time": "2025-04-29T19:28:54.245487Z"
    }
   },
   "cell_type": "code",
   "source": [
    "seg_list_parsed = []\n",
    "\n",
    "for p in seg_list:\n",
    "    # print(p)\n",
    "    seg_parsed = []\n",
    "    for idx, edge in enumerate(p):\n",
    "        edge_start, edge_end = edge.decode(\"utf-8\").split(\";\")\n",
    "        if idx == 0:\n",
    "            seg_parsed.append(edge_start)\n",
    "        seg_parsed.append(edge_end)\n",
    "    seg_list_parsed.append(seg_parsed)"
   ],
   "id": "a907a29bdd4756e5",
   "outputs": [],
   "execution_count": 37
  },
  {
   "metadata": {
    "ExecuteTime": {
     "end_time": "2025-04-29T19:28:54.992630Z",
     "start_time": "2025-04-29T19:28:54.987121Z"
    }
   },
   "cell_type": "code",
   "source": "seg_list_parsed",
   "id": "162416fb619e4417",
   "outputs": [
    {
     "data": {
      "text/plain": [
       "[['4', '6_0'],\n",
       " ['6', '7'],\n",
       " ['1', '5', '6_1'],\n",
       " ['1', '2', '4_0'],\n",
       " ['1', '3', '4_1']]"
      ]
     },
     "execution_count": 38,
     "metadata": {},
     "output_type": "execute_result"
    }
   ],
   "execution_count": 38
  },
  {
   "metadata": {
    "ExecuteTime": {
     "end_time": "2025-04-29T19:30:03.383135Z",
     "start_time": "2025-04-29T19:30:03.379137Z"
    }
   },
   "cell_type": "code",
   "source": [
    "start = 1\n",
    "\n",
    "a = nx.DiGraph()\n",
    "a.add_node(start)\n",
    "\n",
    "queue = [start]\n",
    "for node in queue:\n",
    "    for seg in seg_list_parsed:\n",
    "        if node == seg[0]:\n",
    "            print(seg)"
   ],
   "id": "85a73473c762a0b5",
   "outputs": [],
   "execution_count": 41
  },
  {
   "metadata": {},
   "cell_type": "code",
   "outputs": [],
   "execution_count": null,
   "source": "",
   "id": "eb4e75b33056be9f"
  }
 ],
 "metadata": {
  "kernelspec": {
   "display_name": "Python 3",
   "language": "python",
   "name": "python3"
  },
  "language_info": {
   "codemirror_mode": {
    "name": "ipython",
    "version": 2
   },
   "file_extension": ".py",
   "mimetype": "text/x-python",
   "name": "python",
   "nbconvert_exporter": "python",
   "pygments_lexer": "ipython2",
   "version": "2.7.6"
  }
 },
 "nbformat": 4,
 "nbformat_minor": 5
}
