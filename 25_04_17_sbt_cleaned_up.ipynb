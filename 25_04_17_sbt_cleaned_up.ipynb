{
 "cells": [
  {
   "cell_type": "code",
   "id": "initial_id",
   "metadata": {
    "collapsed": true,
    "ExecuteTime": {
     "end_time": "2025-04-29T23:02:25.133572Z",
     "start_time": "2025-04-29T23:02:24.956294Z"
    }
   },
   "source": [
    "from halp.directed_hypergraph import DirectedHypergraph\n",
    "\n",
    "from halp.algorithms.directed_paths import shortest_b_tree\n",
    "import networkx as nx"
   ],
   "outputs": [],
   "execution_count": 1
  },
  {
   "metadata": {
    "ExecuteTime": {
     "end_time": "2025-04-29T23:02:25.147220Z",
     "start_time": "2025-04-29T23:02:25.138926Z"
    }
   },
   "cell_type": "code",
   "source": [
    "# Define directed hypergraph from overleaf example\n",
    "H = DirectedHypergraph()\n",
    "H.add_hyperedge([1], [2, 3]) #, label=\"E1\")\n",
    "H.add_hyperedge([2], [4, 5]) #, label=\"E2\")\n",
    "H.add_hyperedge([2,3], [6, 7]) #, label=\"E3\")\n",
    "H.add_hyperedge([5, 6], [10]) #, label=\"E4\")\n",
    "H.add_hyperedge([8, 9, 10], [4]) #, label=\"E5\")\n",
    "H.add_hyperedge([11], [12]) #, label=\"E6\")\n",
    "H.add_hyperedge([12, 13], [11]) #, label=\"E7\")"
   ],
   "id": "8e980c0a65c6f2d0",
   "outputs": [
    {
     "data": {
      "text/plain": [
       "'e7'"
      ]
     },
     "execution_count": 2,
     "metadata": {},
     "output_type": "execute_result"
    }
   ],
   "execution_count": 2
  },
  {
   "metadata": {
    "ExecuteTime": {
     "end_time": "2025-04-29T23:02:25.269952Z",
     "start_time": "2025-04-29T23:02:25.261685Z"
    }
   },
   "cell_type": "code",
   "source": [
    "H = DirectedHypergraph()\n",
    "H.add_hyperedge([1], [2]) # 1\n",
    "H.add_hyperedge([1], [3]) # 2\n",
    "H.add_hyperedge([2], [4]) # 3\n",
    "H.add_hyperedge([3, 4], [6]) # 4\n",
    "H.add_hyperedge([2], [5]) # 5\n",
    "H.add_hyperedge([2], [8]) # 6\n",
    "H.add_hyperedge([6, 7], [9]) # 7\n",
    "H.add_hyperedge([9], [12]) # 8\n",
    "H.add_hyperedge([12], [13]) # 9\n",
    "H.add_hyperedge([12], [14]) # 10\n",
    "\n",
    "H.add_hyperedge([8], [11]) # 11\n",
    "H.add_hyperedge([1], [10]) # 12\n",
    "H.add_hyperedge([1], [21]) # 13\n",
    "H.add_hyperedge([12, 21], [28]) # 14\n",
    "H.add_hyperedge([1, 13], [16]) # 15\n",
    "H.add_hyperedge([11, 10], [15]) # 16\n",
    "H.add_hyperedge([15], [17]) # 17\n",
    "H.add_hyperedge([16, 30, 14, 17], [18]) # 18\n",
    "H.add_hyperedge([1, 18], [20]) # 19\n",
    "H.add_hyperedge([1], [22]) # 20\n",
    "\n",
    "H.add_hyperedge([22], [25]) # 21\n",
    "H.add_hyperedge([22], [23]) # 22\n",
    "H.add_hyperedge([22], [24]) # 23\n",
    "H.add_hyperedge([25], [26]) # 24\n",
    "H.add_hyperedge([23, 24], [27]) # 25\n",
    "H.add_hyperedge([26, 27], [29]) # 26\n",
    "H.add_hyperedge([28, 29], [30]) # 27\n",
    "\n",
    "H.add_hyperedge([5], [7])"
   ],
   "id": "38d8b4756655e3f0",
   "outputs": [
    {
     "data": {
      "text/plain": [
       "'e28'"
      ]
     },
     "execution_count": 3,
     "metadata": {},
     "output_type": "execute_result"
    }
   ],
   "execution_count": 3
  },
  {
   "metadata": {},
   "cell_type": "markdown",
   "source": "# Demonstration SBT Algorithm",
   "id": "360604951cd238d9"
  },
  {
   "metadata": {
    "ExecuteTime": {
     "end_time": "2025-04-29T23:02:28.185306Z",
     "start_time": "2025-04-29T23:02:28.181307Z"
    }
   },
   "cell_type": "code",
   "source": [
    "id_source_vertex = 1\n",
    "mapping, weight_dict = shortest_b_tree(H, id_source_vertex)"
   ],
   "id": "87b09d2cc490f467",
   "outputs": [],
   "execution_count": 4
  },
  {
   "metadata": {
    "ExecuteTime": {
     "end_time": "2025-04-29T23:02:28.987696Z",
     "start_time": "2025-04-29T23:02:28.984357Z"
    }
   },
   "cell_type": "code",
   "source": [
    "# mapping: dict: keys (int): vertices ids, values (strings): id of the last hyperedge on the shortest B-path that connects id_source_vertex and the key.\n",
    "print(mapping)"
   ],
   "id": "3f6cb3d87734937a",
   "outputs": [
    {
     "name": "stdout",
     "output_type": "stream",
     "text": [
      "{1: None, 2: 'e1', 3: 'e2', 4: 'e3', 5: 'e5', 6: 'e4', 7: 'e28', 8: 'e6', 9: 'e7', 10: 'e12', 11: 'e11', 12: 'e8', 13: 'e9', 14: 'e10', 15: 'e16', 16: 'e15', 17: 'e17', 18: 'e18', 20: 'e19', 21: 'e13', 22: 'e20', 23: 'e22', 24: 'e23', 25: 'e21', 26: 'e24', 27: 'e25', 28: 'e14', 29: 'e26', 30: 'e27'}\n"
     ]
    }
   ],
   "execution_count": 5
  },
  {
   "metadata": {
    "ExecuteTime": {
     "end_time": "2025-04-29T23:02:30.064888Z",
     "start_time": "2025-04-29T23:02:30.060642Z"
    }
   },
   "cell_type": "code",
   "source": [
    "# weight_dict: dict: keys (int): vertices ids, values (int): weight that the SBT algorithm assigns to each vertex.\n",
    "print(weight_dict)"
   ],
   "id": "d862d58a88d597a8",
   "outputs": [
    {
     "name": "stdout",
     "output_type": "stream",
     "text": [
      "{1: 0, 2: 1, 3: 1, 4: 2, 5: 2, 6: 4, 7: 3, 8: 2, 9: 8, 10: 1, 11: 3, 12: 9, 13: 10, 14: 10, 15: 5, 16: 11, 17: 6, 18: 49, 20: 50, 21: 1, 22: 1, 23: 2, 24: 2, 25: 2, 26: 3, 27: 5, 28: 11, 29: 9, 30: 21}\n"
     ]
    }
   ],
   "execution_count": 6
  },
  {
   "metadata": {},
   "cell_type": "markdown",
   "source": "# Extract Tree for HLD Algorithm",
   "id": "4c55fe28b3eda638"
  },
  {
   "metadata": {
    "ExecuteTime": {
     "end_time": "2025-04-29T23:02:31.643308Z",
     "start_time": "2025-04-29T23:02:31.637544Z"
    }
   },
   "cell_type": "code",
   "source": [
    "def calculate_tree(id_source_vertex: int):\n",
    "    \"\"\"\n",
    "    Calculates the tree that we want to input in the HLD PathGES algorithm.\n",
    "    Parameters:\n",
    "        id_source_vertex (int): The id of the source vertex.\n",
    "    \"\"\"\n",
    "\n",
    "    # Runs the SBT algorithm for vertex \"id_source_vertex\" as source.\n",
    "    mapping, weight_dict = shortest_b_tree(H, id_source_vertex)\n",
    "    # mapping: dict: keys (int): vertices ids, values (strings): id of the last hyperedge on the shortest B-path that connects id_source_vertex and the key.\n",
    "    # weight_dict: dict: keys (int): vertices ids, values (int): weight that the SBT algorithm assigns to each vertex.\n",
    "\n",
    "    # Tree that we will input in the HLD PathGES algorithm.\n",
    "    tree = nx.DiGraph()\n",
    "    for vertex_id in mapping.keys():\n",
    "        hyperedge_id = mapping[vertex_id]\n",
    "        if hyperedge_id is None:\n",
    "            continue\n",
    "\n",
    "        tail_vertex_id_list = H.get_hyperedge_tail(hyperedge_id)\n",
    "        weight_tail_nodes = [weight_dict[vertex_id] for vertex_id in tail_vertex_id_list]\n",
    "        node_id_maximal_weight = tail_vertex_id_list[weight_tail_nodes.index(max(weight_tail_nodes))]\n",
    "\n",
    "        tree.add_edge(node_id_maximal_weight, vertex_id)\n",
    "\n",
    "    return tree"
   ],
   "id": "b1c6975d53a59062",
   "outputs": [],
   "execution_count": 7
  },
  {
   "metadata": {
    "ExecuteTime": {
     "end_time": "2025-04-29T23:02:32.544060Z",
     "start_time": "2025-04-29T23:02:32.539541Z"
    }
   },
   "cell_type": "code",
   "source": [
    "def draw_tree(tree, id_source_vertex):\n",
    "    colors = ['red' if node == id_source_vertex else 'lightblue' for node in tree.nodes()]\n",
    "    nx.draw(tree, with_labels=True, node_color=colors)"
   ],
   "id": "b739d76226e9d507",
   "outputs": [],
   "execution_count": 8
  },
  {
   "metadata": {
    "ExecuteTime": {
     "end_time": "2025-04-29T23:02:33.542034Z",
     "start_time": "2025-04-29T23:02:32.964877Z"
    }
   },
   "cell_type": "code",
   "source": [
    "id_source_vertex = 1\n",
    "tree = calculate_tree(id_source_vertex)\n",
    "draw_tree(tree, id_source_vertex)"
   ],
   "id": "fe9d391e36dd4ee6",
   "outputs": [
    {
     "data": {
      "text/plain": [
       "<Figure size 640x480 with 1 Axes>"
      ],
      "image/png": "[encoded data removed]"
     },
     "metadata": {},
     "output_type": "display_data"
    }
   ],
   "execution_count": 9
  },
  {
   "metadata": {
    "ExecuteTime": {
     "end_time": "2025-04-29T23:03:36.298520Z",
     "start_time": "2025-04-29T23:03:36.294996Z"
    }
   },
   "cell_type": "code",
   "source": "mapping, weight_dict = shortest_b_tree(H, 1)",
   "id": "f5649b69e47e157d",
   "outputs": [],
   "execution_count": 10
  },
  {
   "metadata": {
    "ExecuteTime": {
     "end_time": "2025-04-29T23:04:33.806700Z",
     "start_time": "2025-04-29T23:04:33.801056Z"
    }
   },
   "cell_type": "code",
   "source": "mapping[3]",
   "id": "4a721552c1c74341",
   "outputs": [
    {
     "data": {
      "text/plain": [
       "'e2'"
      ]
     },
     "execution_count": 18,
     "metadata": {},
     "output_type": "execute_result"
    }
   ],
   "execution_count": 18
  },
  {
   "metadata": {},
   "cell_type": "code",
   "outputs": [],
   "execution_count": null,
   "source": "",
   "id": "3a8903f1eb2132e9"
  }
 ],
 "metadata": {
  "kernelspec": {
   "display_name": "Python 3",
   "language": "python",
   "name": "python3"
  },
  "language_info": {
   "codemirror_mode": {
    "name": "ipython",
    "version": 2
   },
   "file_extension": ".py",
   "mimetype": "text/x-python",
   "name": "python",
   "nbconvert_exporter": "python",
   "pygments_lexer": "ipython2",
   "version": "2.7.6"
  }
 },
 "nbformat": 4,
 "nbformat_minor": 5
}
